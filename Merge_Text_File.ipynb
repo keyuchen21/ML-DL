{
 "cells": [
  {
   "cell_type": "code",
   "execution_count": 1,
   "id": "4a8b5a37-e807-4130-9b71-5ad147c5c1e6",
   "metadata": {},
   "outputs": [],
   "source": [
    "data = data2 = \"\"\n",
    "  \n",
    "# Reading data from file1\n",
    "with open('1.txt') as fp:\n",
    "    data = fp.read()\n",
    "  \n",
    "# Reading data from file2\n",
    "with open('2.txt') as fp:\n",
    "    data2 = fp.read()\n",
    "  \n",
    "# Merging 2 files\n",
    "# To add the data of file2\n",
    "# from next line\n",
    "data += \"\\n\"\n",
    "data += data2\n",
    "  \n",
    "with open ('3.txt', 'w') as fp:\n",
    "    fp.write(data)"
   ]
  },
  {
   "cell_type": "code",
   "execution_count": null,
   "id": "5adbb188-d4d0-46fb-9180-399c5b17d3cd",
   "metadata": {},
   "outputs": [],
   "source": []
  }
 ],
 "metadata": {
  "kernelspec": {
   "display_name": "Python 3 (ipykernel)",
   "language": "python",
   "name": "python3"
  },
  "language_info": {
   "codemirror_mode": {
    "name": "ipython",
    "version": 3
   },
   "file_extension": ".py",
   "mimetype": "text/x-python",
   "name": "python",
   "nbconvert_exporter": "python",
   "pygments_lexer": "ipython3",
   "version": "3.9.9"
  }
 },
 "nbformat": 4,
 "nbformat_minor": 5
}
